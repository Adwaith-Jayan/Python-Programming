{
 "cells": [
  {
   "cell_type": "code",
   "execution_count": 2,
   "id": "470a0bea",
   "metadata": {},
   "outputs": [
    {
     "name": "stdout",
     "output_type": "stream",
     "text": [
      "Is Palindrome\n"
     ]
    }
   ],
   "source": [
    "#Palindrome check\n",
    "s=input()\n",
    "s=s.lower()\n",
    "rev=s[::-1]\n",
    "if s==rev:\n",
    "    print(\"Is Palindrome\")\n",
    "else:\n",
    "    print(\"Not palindrome\")"
   ]
  },
  {
   "cell_type": "code",
   "execution_count": 2,
   "id": "91fda98a",
   "metadata": {},
   "outputs": [
    {
     "name": "stdout",
     "output_type": "stream",
     "text": [
      "Cipher message is:  khoor zruog\n"
     ]
    }
   ],
   "source": [
    "#Ceaser Cipher Encrypt\n",
    "#Encryp.py\n",
    "msg=input(\"Enter Message\")\n",
    "msg=msg.lower()\n",
    "cipher=\"\"\n",
    "distance=int(input(\"Distance\"))\n",
    "\n",
    "for c in msg:\n",
    "    if c.isalpha():\n",
    "        e=ord(c)+distance\n",
    "        if e>ord('z'):\n",
    "            e=ord('a')+e - ord('z') -1\n",
    "        cipher+=chr(e)\n",
    "    else:\n",
    "        cipher+=c\n",
    "print(\"Cipher message is: \",cipher)\n"
   ]
  },
  {
   "cell_type": "code",
   "execution_count": 3,
   "id": "732fd7c6",
   "metadata": {},
   "outputs": [
    {
     "name": "stdout",
     "output_type": "stream",
     "text": [
      "hello world\n"
     ]
    }
   ],
   "source": [
    "#Ceaser cipher decyrpt\n",
    "#Decrpyt.py\n",
    "plain=\"\"\n",
    "for c in cipher:\n",
    "    if c.isalpha():\n",
    "        e=ord(c)-distance\n",
    "        if e <ord('a'):\n",
    "            e+=ord('z')-ord('a')+1\n",
    "        plain+=chr(e)\n",
    "    else:\n",
    "        plain+=c\n",
    "print(plain)"
   ]
  },
  {
   "cell_type": "code",
   "execution_count": null,
   "id": "a12f9642",
   "metadata": {},
   "outputs": [
    {
     "name": "stdout",
     "output_type": "stream",
     "text": [
      "13\n"
     ]
    }
   ],
   "source": [
    "#Recursive Fibonacci kth term\n",
    "def fib(k):\n",
    "    if k==1:\n",
    "        return 0\n",
    "    if k==2:\n",
    "        return 1\n",
    "    return fib(k-1)+fib(k-2)\n",
    "\n",
    "n=int(input(\"terms?\"))\n",
    "print(fib(n))"
   ]
  },
  {
   "cell_type": "code",
   "execution_count": 21,
   "id": "6b8faee8",
   "metadata": {},
   "outputs": [
    {
     "name": "stdout",
     "output_type": "stream",
     "text": [
      "0 1 1 2 3 5 8 13 21 34 "
     ]
    }
   ],
   "source": [
    "#Recursive fibonacci first k terms\n",
    "def fib(n,a=0,b=1):\n",
    "    if n >0:\n",
    "        print(a, end= \" \")\n",
    "        fib(n-1,b,a+b)\n",
    "    else:\n",
    "        return\n",
    "fib(10)"
   ]
  },
  {
   "cell_type": "code",
   "execution_count": 29,
   "id": "c0432264",
   "metadata": {},
   "outputs": [
    {
     "name": "stdout",
     "output_type": "stream",
     "text": [
      "120\n"
     ]
    }
   ],
   "source": [
    "#Define a fucntion to find the factorial using reduce and lambda\n",
    "\n",
    "from functools import reduce\n",
    "def fact(n):\n",
    "    return reduce(lambda x,y:x*y,range(1,n+1))\n",
    "print(fact(5))"
   ]
  },
  {
   "cell_type": "code",
   "execution_count": null,
   "id": "afc54f5d",
   "metadata": {},
   "outputs": [
    {
     "name": "stdout",
     "output_type": "stream",
     "text": [
      "20\n"
     ]
    },
    {
     "ename": "",
     "evalue": "",
     "output_type": "error",
     "traceback": [
      "\u001b[1;31mThe Kernel crashed while executing code in the current cell or a previous cell. \n",
      "\u001b[1;31mPlease review the code in the cell(s) to identify a possible cause of the failure. \n",
      "\u001b[1;31mClick <a href='https://aka.ms/vscodeJupyterKernelCrash'>here</a> for more info. \n",
      "\u001b[1;31mView Jupyter <a href='command:jupyter.viewOutput'>log</a> for further details."
     ]
    }
   ],
   "source": [
    "#To display the age a person based on dob input\n",
    "from datetime import date,datetime\n",
    "today=date.today()\n",
    "dob=input(\"DOB: \")\n",
    "dob_date=datetime.strptime(dob,\"%d-%m-%Y\").date()\n",
    "age=today.year - dob_date.year\n",
    "if (today.month,today.day) < (dob_date.month,dob_date.day):\n",
    "    age=age-1\n",
    "print(age)"
   ]
  }
 ],
 "metadata": {
  "kernelspec": {
   "display_name": "base",
   "language": "python",
   "name": "python3"
  },
  "language_info": {
   "codemirror_mode": {
    "name": "ipython",
    "version": 3
   },
   "file_extension": ".py",
   "mimetype": "text/x-python",
   "name": "python",
   "nbconvert_exporter": "python",
   "pygments_lexer": "ipython3",
   "version": "3.8.8"
  }
 },
 "nbformat": 4,
 "nbformat_minor": 5
}

{
 "cells": [
  {
   "cell_type": "code",
   "execution_count": 24,
   "id": "dbc3abea",
   "metadata": {},
   "outputs": [
    {
     "name": "stdout",
     "output_type": "stream",
     "text": [
      "         hello world\n",
      "Hello World\n"
     ]
    }
   ],
   "source": [
    "#Right Justification Examples\n",
    "print(\"%20s\"  %\"hello world\") # this makes string total of 20 length \n",
    "print(\"Hello World\")"
   ]
  },
  {
   "cell_type": "code",
   "execution_count": 25,
   "id": "d26442cb",
   "metadata": {},
   "outputs": [
    {
     "name": "stdout",
     "output_type": "stream",
     "text": [
      "Hello World         \n",
      "         hello world\n"
     ]
    }
   ],
   "source": [
    "#Left Justification Examples\n",
    "print(\"%-20s\" % \"Hello World\") #Left Justification\n",
    "print(\"%20s\"  %\"hello world\") #Right Justification"
   ]
  },
  {
   "cell_type": "code",
   "execution_count": 26,
   "id": "50b22dd7",
   "metadata": {},
   "outputs": [
    {
     "name": "stdout",
     "output_type": "stream",
     "text": [
      "   10\n",
      "10   \n"
     ]
    }
   ],
   "source": [
    "print(\"%5d\" %10) # right justification\n",
    "print(\"%-5d\" %10) #left justification"
   ]
  },
  {
   "cell_type": "code",
   "execution_count": 27,
   "id": "cf3040a7",
   "metadata": {},
   "outputs": [
    {
     "name": "stdout",
     "output_type": "stream",
     "text": [
      "3\n",
      "1\n"
     ]
    }
   ],
   "source": [
    "x,y,z=tuple(map(int,input().split()))\n",
    "if x <y and x <z:\n",
    "    minimum = x\n",
    "    if y<z:\n",
    "        maximum=z\n",
    "    else:\n",
    "        maximum=y\n",
    "elif y<z and y <x:\n",
    "    minimum=y\n",
    "    if x<z:\n",
    "        maximum=z\n",
    "    else:\n",
    "        maximum=x\n",
    "else:\n",
    "    minimum=z\n",
    "    if x<y:\n",
    "        maximum=y\n",
    "    else:\n",
    "        maximum=x\n",
    "print(maximum)\n",
    "print(minimum)\n",
    "\n"
   ]
  },
  {
   "cell_type": "code",
   "execution_count": 28,
   "id": "e9b53359",
   "metadata": {},
   "outputs": [
    {
     "name": "stdout",
     "output_type": "stream",
     "text": [
      "120\n",
      "120\n"
     ]
    }
   ],
   "source": [
    "#factorial of n\n",
    "from math import factorial\n",
    "n=int(input(\"Enter no\"))\n",
    "fact=1\n",
    "print(factorial(n))\n",
    "while(n >1):\n",
    "    fact*=n\n",
    "    n=n-1\n",
    "print(fact)\n"
   ]
  },
  {
   "cell_type": "code",
   "execution_count": 29,
   "id": "1444457f",
   "metadata": {},
   "outputs": [
    {
     "name": "stdout",
     "output_type": "stream",
     "text": [
      "\n",
      "1 \n",
      "1 2 \n",
      "1 2 3 \n",
      "1 2 3 4 \n",
      "1 2 3 4 5 \n"
     ]
    }
   ],
   "source": [
    "\"\"\"To print the give pattern based on N input\n",
    "1\n",
    "1 2\n",
    "1 2 3\n",
    "1 2 3 4\n",
    "\"\"\"\n",
    "n=int(input())\n",
    "for i in range(n+1):\n",
    "    for j in range(1,i+1):\n",
    "        print(j,end=\" \")\n",
    "    print()"
   ]
  },
  {
   "cell_type": "code",
   "execution_count": null,
   "id": "16bdabf9",
   "metadata": {},
   "outputs": [],
   "source": [
    "#Prime number less than 1000\n",
    "for i in range(1000):\n",
    "    if i<2:\n",
    "        continue\n",
    "    prime=True\n",
    "    for j in range(2,i):\n",
    "        if i % j==0:\n",
    "            prime=False\n",
    "            break\n",
    "    if(prime):\n",
    "        print(i)"
   ]
  },
  {
   "cell_type": "code",
   "execution_count": 33,
   "id": "c57f40ae",
   "metadata": {},
   "outputs": [
    {
     "name": "stdout",
     "output_type": "stream",
     "text": [
      "A \n",
      "A B \n",
      "A B C \n",
      "A B C D \n",
      "A B C D E \n"
     ]
    }
   ],
   "source": [
    "n=int(input())\n",
    "for i in range(n):\n",
    "    for j in range(ord('A'),ord('A')+i+1):\n",
    "        print(chr(j),end= \" \")\n",
    "    print()"
   ]
  },
  {
   "cell_type": "code",
   "execution_count": 70,
   "id": "151492ab",
   "metadata": {},
   "outputs": [
    {
     "name": "stdout",
     "output_type": "stream",
     "text": [
      "cos 1.5707963267948966 = 4.2539467343847745e-17\n"
     ]
    }
   ],
   "source": [
    "#sum of cosine series\n",
    "#n is no of terms and x is angle in randians, and ans is cos (x)\n",
    "\n",
    "from math import *\n",
    "n=int(input(\"No of terms:\"))\n",
    "x=radians(float(input(\"Enter angle\")))\n",
    "cos_sum=0\n",
    "for i in range(n):\n",
    "    cos_sum+=(((-1)**i) * (x**(2*i)))/(factorial(2*i))\n",
    "print(f\"cos {x} =\",cos_sum)"
   ]
  },
  {
   "cell_type": "code",
   "execution_count": 71,
   "id": "be498bed",
   "metadata": {},
   "outputs": [
    {
     "name": "stdout",
     "output_type": "stream",
     "text": [
      "Sin 90 =  1.0901865194148963\n"
     ]
    }
   ],
   "source": [
    "#sum of sine series\n",
    "#n is no of terms and x is angle in degrees, and ans is sin(x)\n",
    "import math\n",
    "n=int(input(\"N\"))\n",
    "x=int(input(\"x\"))\n",
    "y=math.radians(x)\n",
    "sin_sum=0\n",
    "for i in range(n):\n",
    "    sin_sum+=((-1)**i *(y**(y*i+1)))/(factorial(2*i+1))\n",
    "print(f\"Sin {x} = \",sin_sum)"
   ]
  },
  {
   "cell_type": "code",
   "execution_count": 57,
   "id": "d30327ab",
   "metadata": {},
   "outputs": [
    {
     "name": "stdout",
     "output_type": "stream",
     "text": [
      "25\n"
     ]
    }
   ],
   "source": [
    "# pow(x,y)\n",
    "\n",
    "x=int(input(\"Enter x\"))\n",
    "y=int(input(\"Enter y\"))\n",
    "ans=1\n",
    "for i in range(y):\n",
    "    ans*=x\n",
    "print(ans)"
   ]
  },
  {
   "cell_type": "code",
   "execution_count": 78,
   "id": "bb5b8bd8",
   "metadata": {},
   "outputs": [
    {
     "name": "stdout",
     "output_type": "stream",
     "text": [
      "Root 1=  3.0\n",
      "Root2=  2.0\n"
     ]
    }
   ],
   "source": [
    "#roots of quadratic equation ax^2 + bx +c\n",
    "from math import sqrt\n",
    "a=int(input(\"a\"))\n",
    "b=int(input(\"b\"))\n",
    "c=int(input(\"c\"))\n",
    "\n",
    "d=b**2 - 4*a*c\n",
    "if d==0:\n",
    "    root=(-b)/(2*a)\n",
    "    print(\"Root= \",root)\n",
    "elif d>0:\n",
    "    root1=((-b)+(sqrt(d)))/(2*a)\n",
    "    root2=((-b)-(sqrt(d)))/(2*a)\n",
    "    print(\"Root 1= \",root1)\n",
    "    print(\"Root2= \",root2)\n",
    "else:\n",
    "    real_1=(-b)/(2*a)\n",
    "    imag_1=(sqrt(abs(d)))/(2*a)\n",
    "    print(f\"Root1= {real_1} + {imag_1}i\")\n",
    "    real_2=(-b)/(2*a)\n",
    "    imag_2=((sqrt(abs(d))))/(2*a)\n",
    "    print(\"Root 2=\",real_2,\"-\",imag_2,\"i\")\n"
   ]
  },
  {
   "cell_type": "code",
   "execution_count": 84,
   "id": "37c6db32",
   "metadata": {},
   "outputs": [
    {
     "name": "stdout",
     "output_type": "stream",
     "text": [
      "It is Armstrong\n"
     ]
    }
   ],
   "source": [
    "#Armstrong Number\n",
    "num=input(\"Enter num\")\n",
    "n=len(num)\n",
    "result=0\n",
    "for i in num:\n",
    "    result+=int(i)**n\n",
    "if int(num)==result:\n",
    "    print(\"It is Armstrong\")\n",
    "else:\n",
    "    print(\"It is not\")"
   ]
  },
  {
   "cell_type": "code",
   "execution_count": null,
   "id": "e30d37f3",
   "metadata": {},
   "outputs": [],
   "source": [
    "#Write a Python program to print all numbensfbtween 100 and 1000 whose sum\n",
    "#of digits is divisible by 9.\n",
    "\n",
    "for num in range(100,1000):\n",
    "    digit_sum=0\n",
    "    str_num=str(num)\n",
    "    for i in str_num:\n",
    "        digit_sum+=int(i)\n",
    "    if digit_sum % 9==0:\n",
    "        print(num)"
   ]
  },
  {
   "cell_type": "code",
   "execution_count": 89,
   "id": "f4ee2dd0",
   "metadata": {},
   "outputs": [
    {
     "name": "stdout",
     "output_type": "stream",
     "text": [
      "2 23 "
     ]
    }
   ],
   "source": [
    "#prime factors of num\n",
    "num=int(input(\"num\"))\n",
    "for i in range(2,num):\n",
    "    if num%i==0:\n",
    "        prime=True\n",
    "        for j in range(2,i//2+1):\n",
    "            if i%j==0:\n",
    "                prime=False\n",
    "                break\n",
    "        if(prime):\n",
    "            print(i,end=\" \")"
   ]
  }
 ],
 "metadata": {
  "kernelspec": {
   "display_name": "base",
   "language": "python",
   "name": "python3"
  },
  "language_info": {
   "codemirror_mode": {
    "name": "ipython",
    "version": 3
   },
   "file_extension": ".py",
   "mimetype": "text/x-python",
   "name": "python",
   "nbconvert_exporter": "python",
   "pygments_lexer": "ipython3",
   "version": "3.8.8"
  }
 },
 "nbformat": 4,
 "nbformat_minor": 5
}

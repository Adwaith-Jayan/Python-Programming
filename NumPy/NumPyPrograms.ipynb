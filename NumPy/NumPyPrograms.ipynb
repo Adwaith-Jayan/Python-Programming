{
 "cells": [
  {
   "cell_type": "code",
   "execution_count": 3,
   "id": "cedfc37f",
   "metadata": {},
   "outputs": [],
   "source": [
    "import numpy as np"
   ]
  },
  {
   "cell_type": "code",
   "execution_count": null,
   "id": "586b5ce9",
   "metadata": {},
   "outputs": [
    {
     "name": "stdout",
     "output_type": "stream",
     "text": [
      "A= [1 2 3]\n",
      "B= [[1 2 3]\n",
      " [1 2 3]]\n",
      "C= [list([[1, 2], [3, 4]]) list([[5, 6]]) list([[1, 2, 3]])]\n"
     ]
    }
   ],
   "source": [
    "#Creating arrays \n",
    "\n",
    "a=np.array([1,2,3])\n",
    "print(\"A=\",a)\n",
    "\n",
    "b=np.array([[1,2,3],[1,2,3]])\n",
    "print(\"B=\",b)"
   ]
  },
  {
   "cell_type": "code",
   "execution_count": 33,
   "id": "32dfff0c",
   "metadata": {},
   "outputs": [
    {
     "name": "stdout",
     "output_type": "stream",
     "text": [
      "C= [[[1 1]\n",
      "  [1 1]\n",
      "  [1 1]]\n",
      "\n",
      " [[1 1]\n",
      "  [1 1]\n",
      "  [1 1]]\n",
      "\n",
      " [[1 1]\n",
      "  [1 1]\n",
      "  [1 1]]]\n",
      "D= [[0 0 0]\n",
      " [0 0 0]\n",
      " [0 0 0]]\n",
      "E= [[5 5]\n",
      " [5 5]]\n"
     ]
    }
   ],
   "source": [
    "#Creating arrays from  prefilled\n",
    "c=np.ones((3,3,2),dtype=int)\n",
    "print(\"C=\",c)\n",
    "\n",
    "d=np.zeros((3,3),dtype=int)\n",
    "print(\"D=\",d)\n",
    "\n",
    "e=np.full((2,2),5)\n",
    "print(\"E=\",e)"
   ]
  },
  {
   "cell_type": "code",
   "execution_count": 30,
   "id": "55d48d82",
   "metadata": {},
   "outputs": [
    {
     "name": "stdout",
     "output_type": "stream",
     "text": [
      "1\n",
      "2\n",
      "3\n",
      "2\n",
      "Shapes\n",
      "(3,)\n",
      "(2, 3)\n",
      "(3, 3, 2)\n",
      "(3, 3)\n"
     ]
    }
   ],
   "source": [
    "#Getting dimensions and sizes\n",
    "print(a.ndim)\n",
    "print(b.ndim)\n",
    "print(c.ndim)\n",
    "print(d.ndim)\n",
    "\n",
    "print(\"Shapes\")\n",
    "print(a.shape)\n",
    "print(b.shape)\n",
    "print(c.shape)\n",
    "print(d.shape)"
   ]
  },
  {
   "cell_type": "code",
   "execution_count": 43,
   "id": "979a1e4c",
   "metadata": {},
   "outputs": [
    {
     "name": "stdout",
     "output_type": "stream",
     "text": [
      "[[[7 8]\n",
      "  [9 6]]\n",
      "\n",
      " [[7 9]\n",
      "  [5 9]]]\n"
     ]
    }
   ],
   "source": [
    "#Radom arrays\n",
    "\n",
    "arr=np.random.randint(5,10,size=(2,2,2))\n",
    "print(arr)\n",
    "\n"
   ]
  },
  {
   "cell_type": "code",
   "execution_count": 45,
   "id": "2f8b0b80",
   "metadata": {},
   "outputs": [
    {
     "name": "stdout",
     "output_type": "stream",
     "text": [
      "[[2 6 6]\n",
      " [1 4 9]\n",
      " [2 7 3]]\n",
      "[[8 7 7]\n",
      " [8 5 9]\n",
      " [6 4 7]]\n",
      "[[10 13 13]\n",
      " [ 9  9 18]\n",
      " [ 8 11 10]]\n"
     ]
    }
   ],
   "source": [
    "#Matrix Operations\n",
    "#Matrix Addition\n",
    "\n",
    "matA=np.random.randint(1,10,size=(3,3))\n",
    "matB=np.random.randint(1,10,size=(3,3))\n",
    "print(matA)\n",
    "print(matB)\n",
    "print(matA+matB)"
   ]
  },
  {
   "cell_type": "code",
   "execution_count": null,
   "id": "bbabb91f",
   "metadata": {},
   "outputs": [
    {
     "name": "stdout",
     "output_type": "stream",
     "text": [
      "[[7 5 1]\n",
      " [8 9 1]\n",
      " [8 5 4]]\n",
      "[[1 0 0]\n",
      " [0 1 0]\n",
      " [0 0 1]]\n",
      "[[7 5 1]\n",
      " [8 9 1]\n",
      " [8 5 4]]\n",
      "[[7 5 1]\n",
      " [8 9 1]\n",
      " [8 5 4]]\n"
     ]
    }
   ],
   "source": [
    "#Matrix Multiplication and identity\n",
    "matA=np.random.randint(1,10,size=(3,3))\n",
    "matB=np.identity(3,dtype=int)\n",
    "print(matA)\n",
    "print(matB)\n",
    "print(matA.dot(matB))\n",
    "print(np.matmul(matA,matB))\n"
   ]
  },
  {
   "cell_type": "code",
   "execution_count": 62,
   "id": "bdd017fa",
   "metadata": {},
   "outputs": [
    {
     "name": "stdout",
     "output_type": "stream",
     "text": [
      "[[7 8 8]\n",
      " [5 9 5]\n",
      " [1 1 4]]\n",
      "[[7 8 8]\n",
      " [5 9 5]\n",
      " [1 1 4]]\n",
      "[[ 0.47692308 -0.23076923 -0.06153846]\n",
      " [-0.36923077  0.30769231  0.01538462]\n",
      " [-0.49230769  0.07692308  0.35384615]]\n",
      "64.99999999999999\n",
      "1.0\n",
      "20\n"
     ]
    }
   ],
   "source": [
    "#Transpose , determinant and inverse\n",
    "print(matA.transpose())\n",
    "print(matA.T)\n",
    "\n",
    "print(np.linalg.inv(matA))\n",
    "\n",
    "print(np.linalg.det(matA))\n",
    "print(np.linalg.det(matB))\n",
    "\n",
    "print(np.trace(matA))\n"
   ]
  },
  {
   "cell_type": "code",
   "execution_count": 70,
   "id": "ee51008e",
   "metadata": {},
   "outputs": [
    {
     "name": "stdout",
     "output_type": "stream",
     "text": [
      "[[7 5 1]\n",
      " [8 9 1]\n",
      " [8 5 4]]\n",
      "[7 5 1]\n",
      "[13 18 17]\n"
     ]
    }
   ],
   "source": [
    "#Aggregate and statistical functions along the axis \n",
    "print(matA)\n",
    "print(matA.min(axis=0))\n",
    "print(matA.sum(axis=1))\n"
   ]
  },
  {
   "cell_type": "code",
   "execution_count": 75,
   "id": "825ace1c",
   "metadata": {},
   "outputs": [
    {
     "name": "stdout",
     "output_type": "stream",
     "text": [
      "[0.81202133 0.59774301 0.0575472  0.25823032 0.9424455  0.50280102\n",
      " 0.04365593 0.19755501 0.47492531 0.60705039]\n",
      "[0.6038976  0.05184417 0.40954387 0.63402072 0.27837008 0.78101925\n",
      " 0.10308426 0.7462886  0.46201894 0.58195432]\n"
     ]
    }
   ],
   "source": [
    "print(np.random.random(10))\n",
    "print(np.random.rand(10))"
   ]
  }
 ],
 "metadata": {
  "kernelspec": {
   "display_name": "base",
   "language": "python",
   "name": "python3"
  },
  "language_info": {
   "codemirror_mode": {
    "name": "ipython",
    "version": 3
   },
   "file_extension": ".py",
   "mimetype": "text/x-python",
   "name": "python",
   "nbconvert_exporter": "python",
   "pygments_lexer": "ipython3",
   "version": "3.8.8"
  }
 },
 "nbformat": 4,
 "nbformat_minor": 5
}

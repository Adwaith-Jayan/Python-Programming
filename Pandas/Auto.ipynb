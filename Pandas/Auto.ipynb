{
 "cells": [
  {
   "cell_type": "code",
   "execution_count": 9,
   "id": "eb4e0530",
   "metadata": {},
   "outputs": [
    {
     "name": "stdout",
     "output_type": "stream",
     "text": [
      "company\n",
      "BMW       3\n",
      "Ford      2\n",
      "Honda     2\n",
      "Nissan    1\n",
      "Toyota    3\n",
      "Name: company, dtype: int64\n"
     ]
    }
   ],
   "source": [
    "import pandas as pd\n",
    "\n",
    "df=pd.read_csv(\"auto.csv\")\n",
    "#1)\n",
    "print(df.groupby('company')['company'].count())"
   ]
  },
  {
   "cell_type": "code",
   "execution_count": 10,
   "id": "487c0f20",
   "metadata": {},
   "outputs": [
    {
     "name": "stdout",
     "output_type": "stream",
     "text": [
      "company\n",
      "BMW       26.333333\n",
      "Ford      33.000000\n",
      "Honda     31.000000\n",
      "Nissan    34.000000\n",
      "Toyota    30.000000\n",
      "Name: mileage, dtype: float64\n"
     ]
    }
   ],
   "source": [
    "#2)\n",
    "print(df.groupby('company')['mileage'].mean())"
   ]
  },
  {
   "cell_type": "code",
   "execution_count": 17,
   "id": "ffdde689",
   "metadata": {},
   "outputs": [
    {
     "name": "stdout",
     "output_type": "stream",
     "text": [
      "    index company   body-style  wheel-base  length engine-type  \\\n",
      "5       5     BMW  Convertible       104.3   192.7         ohc   \n",
      "1       1    Ford        Sedan       100.4   176.2         ohc   \n",
      "6       6   Honda          SUV       100.0   185.0         ohc   \n",
      "8       8  Nissan    Hatchback        95.1   159.1         ohc   \n",
      "10     10  Toyota          SUV       105.0   180.0         ohc   \n",
      "\n",
      "   num-of-cylinders  horsepower  mileage  price  \n",
      "5               six         160       24  40000  \n",
      "1              four          88       30  12000  \n",
      "6              four          90       29  14000  \n",
      "8              four          70       34   8200  \n",
      "10              six         120       27  18000  \n"
     ]
    }
   ],
   "source": [
    "#3)\n",
    "i=df.groupby('company')['price'].idxmax()\n",
    "print(df.loc[i])"
   ]
  }
 ],
 "metadata": {
  "kernelspec": {
   "display_name": "base",
   "language": "python",
   "name": "python3"
  },
  "language_info": {
   "codemirror_mode": {
    "name": "ipython",
    "version": 3
   },
   "file_extension": ".py",
   "mimetype": "text/x-python",
   "name": "python",
   "nbconvert_exporter": "python",
   "pygments_lexer": "ipython3",
   "version": "3.8.8"
  }
 },
 "nbformat": 4,
 "nbformat_minor": 5
}
